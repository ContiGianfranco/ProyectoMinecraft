{
 "cells": [
  {
   "cell_type": "code",
   "execution_count": 1,
   "metadata": {},
   "outputs": [],
   "source": [
    "import pandas as pd"
   ]
  },
  {
   "cell_type": "code",
   "execution_count": 2,
   "metadata": {},
   "outputs": [
    {
     "data": {
      "text/html": [
       "<div>\n",
       "<style scoped>\n",
       "    .dataframe tbody tr th:only-of-type {\n",
       "        vertical-align: middle;\n",
       "    }\n",
       "\n",
       "    .dataframe tbody tr th {\n",
       "        vertical-align: top;\n",
       "    }\n",
       "\n",
       "    .dataframe thead th {\n",
       "        text-align: right;\n",
       "    }\n",
       "</style>\n",
       "<table border=\"1\" class=\"dataframe\">\n",
       "  <thead>\n",
       "    <tr style=\"text-align: right;\">\n",
       "      <th></th>\n",
       "      <th>id_pager</th>\n",
       "      <th>numero_tel</th>\n",
       "      <th>cod_area</th>\n",
       "      <th>fecha_creacion</th>\n",
       "      <th>nombre</th>\n",
       "      <th>region</th>\n",
       "      <th>categoria</th>\n",
       "    </tr>\n",
       "  </thead>\n",
       "  <tbody>\n",
       "    <tr>\n",
       "      <th>0</th>\n",
       "      <td>1</td>\n",
       "      <td>11</td>\n",
       "      <td>42</td>\n",
       "      <td>4</td>\n",
       "      <td>Jason</td>\n",
       "      <td>norte</td>\n",
       "      <td>25</td>\n",
       "    </tr>\n",
       "    <tr>\n",
       "      <th>1</th>\n",
       "      <td>2</td>\n",
       "      <td>22</td>\n",
       "      <td>52</td>\n",
       "      <td>24</td>\n",
       "      <td>Molly</td>\n",
       "      <td>sur</td>\n",
       "      <td>94</td>\n",
       "    </tr>\n",
       "    <tr>\n",
       "      <th>2</th>\n",
       "      <td>3</td>\n",
       "      <td>33</td>\n",
       "      <td>36</td>\n",
       "      <td>31</td>\n",
       "      <td>Tina</td>\n",
       "      <td>norte</td>\n",
       "      <td>57</td>\n",
       "    </tr>\n",
       "    <tr>\n",
       "      <th>3</th>\n",
       "      <td>4</td>\n",
       "      <td>44</td>\n",
       "      <td>24</td>\n",
       "      <td>2</td>\n",
       "      <td>Jake</td>\n",
       "      <td>este</td>\n",
       "      <td>62</td>\n",
       "    </tr>\n",
       "    <tr>\n",
       "      <th>4</th>\n",
       "      <td>5</td>\n",
       "      <td>55</td>\n",
       "      <td>73</td>\n",
       "      <td>3</td>\n",
       "      <td>Amy</td>\n",
       "      <td>dacota</td>\n",
       "      <td>70</td>\n",
       "    </tr>\n",
       "    <tr>\n",
       "      <th>5</th>\n",
       "      <td>6</td>\n",
       "      <td>66</td>\n",
       "      <td>45</td>\n",
       "      <td>3</td>\n",
       "      <td>Tina</td>\n",
       "      <td>dacota</td>\n",
       "      <td>6</td>\n",
       "    </tr>\n",
       "    <tr>\n",
       "      <th>6</th>\n",
       "      <td>7</td>\n",
       "      <td>77</td>\n",
       "      <td>45</td>\n",
       "      <td>3</td>\n",
       "      <td>Jake</td>\n",
       "      <td>dacota</td>\n",
       "      <td>6</td>\n",
       "    </tr>\n",
       "    <tr>\n",
       "      <th>7</th>\n",
       "      <td>8</td>\n",
       "      <td>88</td>\n",
       "      <td>45</td>\n",
       "      <td>3</td>\n",
       "      <td>Amy</td>\n",
       "      <td>dacota</td>\n",
       "      <td>6</td>\n",
       "    </tr>\n",
       "    <tr>\n",
       "      <th>8</th>\n",
       "      <td>9</td>\n",
       "      <td>88</td>\n",
       "      <td>45</td>\n",
       "      <td>3</td>\n",
       "      <td>Amy</td>\n",
       "      <td>dacota</td>\n",
       "      <td>6</td>\n",
       "    </tr>\n",
       "  </tbody>\n",
       "</table>\n",
       "</div>"
      ],
      "text/plain": [
       "   id_pager  numero_tel  cod_area  fecha_creacion nombre  region  categoria\n",
       "0         1          11        42               4  Jason   norte         25\n",
       "1         2          22        52              24  Molly     sur         94\n",
       "2         3          33        36              31   Tina   norte         57\n",
       "3         4          44        24               2   Jake    este         62\n",
       "4         5          55        73               3    Amy  dacota         70\n",
       "5         6          66        45               3   Tina  dacota          6\n",
       "6         7          77        45               3   Jake  dacota          6\n",
       "7         8          88        45               3    Amy  dacota          6\n",
       "8         9          88        45               3    Amy  dacota          6"
      ]
     },
     "execution_count": 2,
     "metadata": {},
     "output_type": "execute_result"
    }
   ],
   "source": [
    "raw_data = {'id_pager': [1,2,3,4,5,6,7,8,9], \n",
    "        'numero_tel': [11,22,33,44,55,66,77,88,88], \n",
    "        'cod_area': [42, 52, 36, 24, 73,45,45,45,45], \n",
    "        'fecha_creacion': [4, 24, 31, 2, 3,3,3,3,3],\n",
    "        'nombre': ['Jason', 'Molly', 'Tina', 'Jake', 'Amy','Tina', 'Jake', 'Amy', 'Amy'],\n",
    "        'region': ['norte','sur','norte','este','dacota','dacota','dacota','dacota','dacota'],\n",
    "        'categoria': [25, 94, 57, 62, 70,6,6,6,6]}\n",
    "clientes = pd.DataFrame(raw_data, columns = ['id_pager', 'numero_tel', 'cod_area', 'fecha_creacion', 'nombre','region','categoria'])\n",
    "clientes"
   ]
  },
  {
   "cell_type": "code",
   "execution_count": 3,
   "metadata": {},
   "outputs": [
    {
     "data": {
      "text/html": [
       "<div>\n",
       "<style scoped>\n",
       "    .dataframe tbody tr th:only-of-type {\n",
       "        vertical-align: middle;\n",
       "    }\n",
       "\n",
       "    .dataframe tbody tr th {\n",
       "        vertical-align: top;\n",
       "    }\n",
       "\n",
       "    .dataframe thead th {\n",
       "        text-align: right;\n",
       "    }\n",
       "</style>\n",
       "<table border=\"1\" class=\"dataframe\">\n",
       "  <thead>\n",
       "    <tr style=\"text-align: right;\">\n",
       "      <th></th>\n",
       "      <th>año</th>\n",
       "      <th>mes</th>\n",
       "      <th>id_pager</th>\n",
       "      <th>mensaje</th>\n",
       "      <th>numero_origen</th>\n",
       "    </tr>\n",
       "  </thead>\n",
       "  <tbody>\n",
       "    <tr>\n",
       "      <th>0</th>\n",
       "      <td>2018</td>\n",
       "      <td>10</td>\n",
       "      <td>1</td>\n",
       "      <td>hola</td>\n",
       "      <td>25</td>\n",
       "    </tr>\n",
       "    <tr>\n",
       "      <th>1</th>\n",
       "      <td>2017</td>\n",
       "      <td>10</td>\n",
       "      <td>1</td>\n",
       "      <td>urgente</td>\n",
       "      <td>94</td>\n",
       "    </tr>\n",
       "    <tr>\n",
       "      <th>2</th>\n",
       "      <td>2018</td>\n",
       "      <td>10</td>\n",
       "      <td>1</td>\n",
       "      <td>ey</td>\n",
       "      <td>57</td>\n",
       "    </tr>\n",
       "    <tr>\n",
       "      <th>3</th>\n",
       "      <td>2019</td>\n",
       "      <td>10</td>\n",
       "      <td>2</td>\n",
       "      <td>hola</td>\n",
       "      <td>62</td>\n",
       "    </tr>\n",
       "    <tr>\n",
       "      <th>4</th>\n",
       "      <td>2017</td>\n",
       "      <td>1010</td>\n",
       "      <td>2</td>\n",
       "      <td>urgente</td>\n",
       "      <td>70</td>\n",
       "    </tr>\n",
       "    <tr>\n",
       "      <th>5</th>\n",
       "      <td>2019</td>\n",
       "      <td>10</td>\n",
       "      <td>3</td>\n",
       "      <td>ey</td>\n",
       "      <td>25</td>\n",
       "    </tr>\n",
       "    <tr>\n",
       "      <th>6</th>\n",
       "      <td>2019</td>\n",
       "      <td>10</td>\n",
       "      <td>4</td>\n",
       "      <td>hola</td>\n",
       "      <td>25</td>\n",
       "    </tr>\n",
       "    <tr>\n",
       "      <th>7</th>\n",
       "      <td>2019</td>\n",
       "      <td>10</td>\n",
       "      <td>5</td>\n",
       "      <td>urgente</td>\n",
       "      <td>25</td>\n",
       "    </tr>\n",
       "    <tr>\n",
       "      <th>8</th>\n",
       "      <td>2019</td>\n",
       "      <td>10</td>\n",
       "      <td>5</td>\n",
       "      <td>ey</td>\n",
       "      <td>25</td>\n",
       "    </tr>\n",
       "    <tr>\n",
       "      <th>9</th>\n",
       "      <td>2019</td>\n",
       "      <td>10</td>\n",
       "      <td>5</td>\n",
       "      <td>hola</td>\n",
       "      <td>25</td>\n",
       "    </tr>\n",
       "    <tr>\n",
       "      <th>10</th>\n",
       "      <td>2019</td>\n",
       "      <td>10</td>\n",
       "      <td>5</td>\n",
       "      <td>urgente</td>\n",
       "      <td>25</td>\n",
       "    </tr>\n",
       "    <tr>\n",
       "      <th>11</th>\n",
       "      <td>2019</td>\n",
       "      <td>11</td>\n",
       "      <td>5</td>\n",
       "      <td>ey</td>\n",
       "      <td>25</td>\n",
       "    </tr>\n",
       "    <tr>\n",
       "      <th>12</th>\n",
       "      <td>2019</td>\n",
       "      <td>11</td>\n",
       "      <td>5</td>\n",
       "      <td>hola</td>\n",
       "      <td>25</td>\n",
       "    </tr>\n",
       "    <tr>\n",
       "      <th>13</th>\n",
       "      <td>2019</td>\n",
       "      <td>10</td>\n",
       "      <td>2</td>\n",
       "      <td>urgente</td>\n",
       "      <td>25</td>\n",
       "    </tr>\n",
       "    <tr>\n",
       "      <th>14</th>\n",
       "      <td>2018</td>\n",
       "      <td>10</td>\n",
       "      <td>4</td>\n",
       "      <td>ey</td>\n",
       "      <td>25</td>\n",
       "    </tr>\n",
       "    <tr>\n",
       "      <th>15</th>\n",
       "      <td>2019</td>\n",
       "      <td>10</td>\n",
       "      <td>3</td>\n",
       "      <td>hola</td>\n",
       "      <td>45</td>\n",
       "    </tr>\n",
       "    <tr>\n",
       "      <th>16</th>\n",
       "      <td>2019</td>\n",
       "      <td>10</td>\n",
       "      <td>6</td>\n",
       "      <td>urgente</td>\n",
       "      <td>25</td>\n",
       "    </tr>\n",
       "    <tr>\n",
       "      <th>17</th>\n",
       "      <td>2109</td>\n",
       "      <td>10</td>\n",
       "      <td>6</td>\n",
       "      <td>ey</td>\n",
       "      <td>25</td>\n",
       "    </tr>\n",
       "  </tbody>\n",
       "</table>\n",
       "</div>"
      ],
      "text/plain": [
       "     año   mes  id_pager  mensaje  numero_origen\n",
       "0   2018    10         1     hola             25\n",
       "1   2017    10         1  urgente             94\n",
       "2   2018    10         1       ey             57\n",
       "3   2019    10         2     hola             62\n",
       "4   2017  1010         2  urgente             70\n",
       "5   2019    10         3       ey             25\n",
       "6   2019    10         4     hola             25\n",
       "7   2019    10         5  urgente             25\n",
       "8   2019    10         5       ey             25\n",
       "9   2019    10         5     hola             25\n",
       "10  2019    10         5  urgente             25\n",
       "11  2019    11         5       ey             25\n",
       "12  2019    11         5     hola             25\n",
       "13  2019    10         2  urgente             25\n",
       "14  2018    10         4       ey             25\n",
       "15  2019    10         3     hola             45\n",
       "16  2019    10         6  urgente             25\n",
       "17  2109    10         6       ey             25"
      ]
     },
     "execution_count": 3,
     "metadata": {},
     "output_type": "execute_result"
    }
   ],
   "source": [
    "raw_data = {'año': [2018,2017,2018,2019,2017,2019,2019,2019,2019,2019,2019,2019,2019,2019,2018,2019,2019,2109], \n",
    "        'mes': [10, 10,10,10,1010,10,10,10,10,10,10,11,11,10,10,10,10,10], \n",
    "        'id_pager': [1, 1, 1, 2, 2,3,4,5,5,5,5,5,5,2,4,3,6,6], \n",
    "        'mensaje': ['hola', 'urgente', 'ey','hola', 'urgente', 'ey','hola', 'urgente', 'ey','hola', 'urgente', 'ey','hola', 'urgente', 'ey','hola', 'urgente', 'ey'],\n",
    "        'numero_origen': [25, 94, 57, 62, 70,25,25,25,25,25,25,25,25,25,25,45,25,25]}\n",
    "eventos = pd.DataFrame(raw_data, columns = ['año', 'mes', 'id_pager', 'mensaje', 'numero_origen'])\n",
    "eventos"
   ]
  },
  {
   "cell_type": "raw",
   "metadata": {},
   "source": [
    "A]Region con mas pg activos (recibe mensaje ultimo mes) "
   ]
  },
  {
   "cell_type": "code",
   "execution_count": 4,
   "metadata": {},
   "outputs": [],
   "source": [
    "eventos_recientes = eventos.loc[(eventos['mes']== 10) & (eventos['año']==2019)]\n"
   ]
  },
  {
   "cell_type": "code",
   "execution_count": 5,
   "metadata": {},
   "outputs": [
    {
     "data": {
      "text/html": [
       "<div>\n",
       "<style scoped>\n",
       "    .dataframe tbody tr th:only-of-type {\n",
       "        vertical-align: middle;\n",
       "    }\n",
       "\n",
       "    .dataframe tbody tr th {\n",
       "        vertical-align: top;\n",
       "    }\n",
       "\n",
       "    .dataframe thead th {\n",
       "        text-align: right;\n",
       "    }\n",
       "</style>\n",
       "<table border=\"1\" class=\"dataframe\">\n",
       "  <thead>\n",
       "    <tr style=\"text-align: right;\">\n",
       "      <th></th>\n",
       "      <th>año</th>\n",
       "      <th>mes</th>\n",
       "      <th>id_pager</th>\n",
       "      <th>mensaje</th>\n",
       "      <th>numero_origen</th>\n",
       "    </tr>\n",
       "  </thead>\n",
       "  <tbody>\n",
       "    <tr>\n",
       "      <th>3</th>\n",
       "      <td>2019</td>\n",
       "      <td>10</td>\n",
       "      <td>2</td>\n",
       "      <td>hola</td>\n",
       "      <td>62</td>\n",
       "    </tr>\n",
       "    <tr>\n",
       "      <th>5</th>\n",
       "      <td>2019</td>\n",
       "      <td>10</td>\n",
       "      <td>3</td>\n",
       "      <td>ey</td>\n",
       "      <td>25</td>\n",
       "    </tr>\n",
       "    <tr>\n",
       "      <th>6</th>\n",
       "      <td>2019</td>\n",
       "      <td>10</td>\n",
       "      <td>4</td>\n",
       "      <td>hola</td>\n",
       "      <td>25</td>\n",
       "    </tr>\n",
       "    <tr>\n",
       "      <th>7</th>\n",
       "      <td>2019</td>\n",
       "      <td>10</td>\n",
       "      <td>5</td>\n",
       "      <td>urgente</td>\n",
       "      <td>25</td>\n",
       "    </tr>\n",
       "    <tr>\n",
       "      <th>16</th>\n",
       "      <td>2019</td>\n",
       "      <td>10</td>\n",
       "      <td>6</td>\n",
       "      <td>urgente</td>\n",
       "      <td>25</td>\n",
       "    </tr>\n",
       "  </tbody>\n",
       "</table>\n",
       "</div>"
      ],
      "text/plain": [
       "     año  mes  id_pager  mensaje  numero_origen\n",
       "3   2019   10         2     hola             62\n",
       "5   2019   10         3       ey             25\n",
       "6   2019   10         4     hola             25\n",
       "7   2019   10         5  urgente             25\n",
       "16  2019   10         6  urgente             25"
      ]
     },
     "execution_count": 5,
     "metadata": {},
     "output_type": "execute_result"
    }
   ],
   "source": [
    "eventos_recientes_sin_repetir =eventos_recientes.drop_duplicates(subset='id_pager')\n",
    "eventos_recientes_sin_repetir "
   ]
  },
  {
   "cell_type": "code",
   "execution_count": 6,
   "metadata": {},
   "outputs": [
    {
     "data": {
      "text/html": [
       "<div>\n",
       "<style scoped>\n",
       "    .dataframe tbody tr th:only-of-type {\n",
       "        vertical-align: middle;\n",
       "    }\n",
       "\n",
       "    .dataframe tbody tr th {\n",
       "        vertical-align: top;\n",
       "    }\n",
       "\n",
       "    .dataframe thead th {\n",
       "        text-align: right;\n",
       "    }\n",
       "</style>\n",
       "<table border=\"1\" class=\"dataframe\">\n",
       "  <thead>\n",
       "    <tr style=\"text-align: right;\">\n",
       "      <th></th>\n",
       "      <th>año</th>\n",
       "      <th>mes</th>\n",
       "      <th>id_pager</th>\n",
       "      <th>mensaje</th>\n",
       "      <th>numero_origen</th>\n",
       "      <th>numero_tel</th>\n",
       "      <th>cod_area</th>\n",
       "      <th>fecha_creacion</th>\n",
       "      <th>nombre</th>\n",
       "      <th>region</th>\n",
       "      <th>categoria</th>\n",
       "    </tr>\n",
       "  </thead>\n",
       "  <tbody>\n",
       "    <tr>\n",
       "      <th>0</th>\n",
       "      <td>2019</td>\n",
       "      <td>10</td>\n",
       "      <td>2</td>\n",
       "      <td>hola</td>\n",
       "      <td>62</td>\n",
       "      <td>22</td>\n",
       "      <td>52</td>\n",
       "      <td>24</td>\n",
       "      <td>Molly</td>\n",
       "      <td>sur</td>\n",
       "      <td>94</td>\n",
       "    </tr>\n",
       "    <tr>\n",
       "      <th>1</th>\n",
       "      <td>2019</td>\n",
       "      <td>10</td>\n",
       "      <td>3</td>\n",
       "      <td>ey</td>\n",
       "      <td>25</td>\n",
       "      <td>33</td>\n",
       "      <td>36</td>\n",
       "      <td>31</td>\n",
       "      <td>Tina</td>\n",
       "      <td>norte</td>\n",
       "      <td>57</td>\n",
       "    </tr>\n",
       "    <tr>\n",
       "      <th>2</th>\n",
       "      <td>2019</td>\n",
       "      <td>10</td>\n",
       "      <td>4</td>\n",
       "      <td>hola</td>\n",
       "      <td>25</td>\n",
       "      <td>44</td>\n",
       "      <td>24</td>\n",
       "      <td>2</td>\n",
       "      <td>Jake</td>\n",
       "      <td>este</td>\n",
       "      <td>62</td>\n",
       "    </tr>\n",
       "    <tr>\n",
       "      <th>3</th>\n",
       "      <td>2019</td>\n",
       "      <td>10</td>\n",
       "      <td>5</td>\n",
       "      <td>urgente</td>\n",
       "      <td>25</td>\n",
       "      <td>55</td>\n",
       "      <td>73</td>\n",
       "      <td>3</td>\n",
       "      <td>Amy</td>\n",
       "      <td>dacota</td>\n",
       "      <td>70</td>\n",
       "    </tr>\n",
       "    <tr>\n",
       "      <th>4</th>\n",
       "      <td>2019</td>\n",
       "      <td>10</td>\n",
       "      <td>6</td>\n",
       "      <td>urgente</td>\n",
       "      <td>25</td>\n",
       "      <td>66</td>\n",
       "      <td>45</td>\n",
       "      <td>3</td>\n",
       "      <td>Tina</td>\n",
       "      <td>dacota</td>\n",
       "      <td>6</td>\n",
       "    </tr>\n",
       "  </tbody>\n",
       "</table>\n",
       "</div>"
      ],
      "text/plain": [
       "    año  mes  id_pager  mensaje  numero_origen  numero_tel  cod_area  \\\n",
       "0  2019   10         2     hola             62          22        52   \n",
       "1  2019   10         3       ey             25          33        36   \n",
       "2  2019   10         4     hola             25          44        24   \n",
       "3  2019   10         5  urgente             25          55        73   \n",
       "4  2019   10         6  urgente             25          66        45   \n",
       "\n",
       "   fecha_creacion nombre  region  categoria  \n",
       "0              24  Molly     sur         94  \n",
       "1              31   Tina   norte         57  \n",
       "2               2   Jake    este         62  \n",
       "3               3    Amy  dacota         70  \n",
       "4               3   Tina  dacota          6  "
      ]
     },
     "execution_count": 6,
     "metadata": {},
     "output_type": "execute_result"
    }
   ],
   "source": [
    "union = eventos_recientes_sin_repetir.merge(clientes, on='id_pager',how='inner')\n",
    "union"
   ]
  },
  {
   "cell_type": "code",
   "execution_count": 7,
   "metadata": {},
   "outputs": [
    {
     "data": {
      "text/html": [
       "<div>\n",
       "<style scoped>\n",
       "    .dataframe tbody tr th:only-of-type {\n",
       "        vertical-align: middle;\n",
       "    }\n",
       "\n",
       "    .dataframe tbody tr th {\n",
       "        vertical-align: top;\n",
       "    }\n",
       "\n",
       "    .dataframe thead th {\n",
       "        text-align: right;\n",
       "    }\n",
       "</style>\n",
       "<table border=\"1\" class=\"dataframe\">\n",
       "  <thead>\n",
       "    <tr style=\"text-align: right;\">\n",
       "      <th></th>\n",
       "      <th>region</th>\n",
       "      <th>cantidad_activos</th>\n",
       "    </tr>\n",
       "  </thead>\n",
       "  <tbody>\n",
       "    <tr>\n",
       "      <th>0</th>\n",
       "      <td>dacota</td>\n",
       "      <td>2</td>\n",
       "    </tr>\n",
       "  </tbody>\n",
       "</table>\n",
       "</div>"
      ],
      "text/plain": [
       "   region  cantidad_activos\n",
       "0  dacota                 2"
      ]
     },
     "execution_count": 7,
     "metadata": {},
     "output_type": "execute_result"
    }
   ],
   "source": [
    "region = union.groupby(['region']).agg({'id_pager':'count'}).reset_index()\n",
    "region = region.rename(columns={'id_pager': 'cantidad_activos'})\n",
    "region_max = region.nlargest(1,'cantidad_activos')\n",
    "region_max"
   ]
  },
  {
   "cell_type": "code",
   "execution_count": 8,
   "metadata": {},
   "outputs": [
    {
     "data": {
      "text/html": [
       "<div>\n",
       "<style scoped>\n",
       "    .dataframe tbody tr th:only-of-type {\n",
       "        vertical-align: middle;\n",
       "    }\n",
       "\n",
       "    .dataframe tbody tr th {\n",
       "        vertical-align: top;\n",
       "    }\n",
       "\n",
       "    .dataframe thead th {\n",
       "        text-align: right;\n",
       "    }\n",
       "</style>\n",
       "<table border=\"1\" class=\"dataframe\">\n",
       "  <thead>\n",
       "    <tr style=\"text-align: right;\">\n",
       "      <th></th>\n",
       "      <th>año</th>\n",
       "      <th>mes</th>\n",
       "      <th>id_pager</th>\n",
       "      <th>mensaje</th>\n",
       "      <th>numero_origen</th>\n",
       "    </tr>\n",
       "  </thead>\n",
       "  <tbody>\n",
       "    <tr>\n",
       "      <th>3</th>\n",
       "      <td>2019</td>\n",
       "      <td>10</td>\n",
       "      <td>2</td>\n",
       "      <td>hola</td>\n",
       "      <td>62</td>\n",
       "    </tr>\n",
       "    <tr>\n",
       "      <th>5</th>\n",
       "      <td>2019</td>\n",
       "      <td>10</td>\n",
       "      <td>3</td>\n",
       "      <td>ey</td>\n",
       "      <td>25</td>\n",
       "    </tr>\n",
       "    <tr>\n",
       "      <th>6</th>\n",
       "      <td>2019</td>\n",
       "      <td>10</td>\n",
       "      <td>4</td>\n",
       "      <td>hola</td>\n",
       "      <td>25</td>\n",
       "    </tr>\n",
       "    <tr>\n",
       "      <th>7</th>\n",
       "      <td>2019</td>\n",
       "      <td>10</td>\n",
       "      <td>5</td>\n",
       "      <td>urgente</td>\n",
       "      <td>25</td>\n",
       "    </tr>\n",
       "    <tr>\n",
       "      <th>8</th>\n",
       "      <td>2019</td>\n",
       "      <td>10</td>\n",
       "      <td>5</td>\n",
       "      <td>ey</td>\n",
       "      <td>25</td>\n",
       "    </tr>\n",
       "    <tr>\n",
       "      <th>9</th>\n",
       "      <td>2019</td>\n",
       "      <td>10</td>\n",
       "      <td>5</td>\n",
       "      <td>hola</td>\n",
       "      <td>25</td>\n",
       "    </tr>\n",
       "    <tr>\n",
       "      <th>10</th>\n",
       "      <td>2019</td>\n",
       "      <td>10</td>\n",
       "      <td>5</td>\n",
       "      <td>urgente</td>\n",
       "      <td>25</td>\n",
       "    </tr>\n",
       "    <tr>\n",
       "      <th>13</th>\n",
       "      <td>2019</td>\n",
       "      <td>10</td>\n",
       "      <td>2</td>\n",
       "      <td>urgente</td>\n",
       "      <td>25</td>\n",
       "    </tr>\n",
       "    <tr>\n",
       "      <th>15</th>\n",
       "      <td>2019</td>\n",
       "      <td>10</td>\n",
       "      <td>3</td>\n",
       "      <td>hola</td>\n",
       "      <td>45</td>\n",
       "    </tr>\n",
       "    <tr>\n",
       "      <th>16</th>\n",
       "      <td>2019</td>\n",
       "      <td>10</td>\n",
       "      <td>6</td>\n",
       "      <td>urgente</td>\n",
       "      <td>25</td>\n",
       "    </tr>\n",
       "  </tbody>\n",
       "</table>\n",
       "</div>"
      ],
      "text/plain": [
       "     año  mes  id_pager  mensaje  numero_origen\n",
       "3   2019   10         2     hola             62\n",
       "5   2019   10         3       ey             25\n",
       "6   2019   10         4     hola             25\n",
       "7   2019   10         5  urgente             25\n",
       "8   2019   10         5       ey             25\n",
       "9   2019   10         5     hola             25\n",
       "10  2019   10         5  urgente             25\n",
       "13  2019   10         2  urgente             25\n",
       "15  2019   10         3     hola             45\n",
       "16  2019   10         6  urgente             25"
      ]
     },
     "execution_count": 8,
     "metadata": {},
     "output_type": "execute_result"
    }
   ],
   "source": [
    "#B) %activo que tien 1 emisor\n",
    "eventos_recientes\n"
   ]
  },
  {
   "cell_type": "code",
   "execution_count": 9,
   "metadata": {},
   "outputs": [],
   "source": [
    "\n",
    "from collections import OrderedDict\n",
    "\n",
    "def funcion(df):\n",
    "    # lo usamos para preservar el orden de insercion\n",
    "    data = OrderedDict()\n",
    "    original = df['numero_origen'].count()\n",
    "    df1 = df.drop_duplicates(subset='numero_origen')\n",
    "    data['unico'] = 0 if ((original == df1['numero_origen'].count()) and (original != 1)) else 1\n",
    "    data['final'] = df1['numero_origen'].count()\n",
    "\n",
    "    return pd.Series(data)\n",
    "\n"
   ]
  },
  {
   "cell_type": "code",
   "execution_count": 15,
   "metadata": {},
   "outputs": [
    {
     "data": {
      "text/plain": [
       "5"
      ]
     },
     "execution_count": 15,
     "metadata": {},
     "output_type": "execute_result"
    }
   ],
   "source": [
    "cantidad_activos= eventos_recientes_sin_repetir['id_pager'].count()\n",
    "\n",
    "cantidad_activos"
   ]
  },
  {
   "cell_type": "code",
   "execution_count": 14,
   "metadata": {},
   "outputs": [
    {
     "data": {
      "text/plain": [
       "3"
      ]
     },
     "execution_count": 14,
     "metadata": {},
     "output_type": "execute_result"
    }
   ],
   "source": [
    "test= eventos_recientes.groupby(['id_pager']).apply (funcion).reset_index()\n",
    "unicos= test['unico'].sum()\n",
    "unicos"
   ]
  },
  {
   "cell_type": "code",
   "execution_count": 12,
   "metadata": {},
   "outputs": [
    {
     "data": {
      "text/plain": [
       "60.0"
      ]
     },
     "execution_count": 12,
     "metadata": {},
     "output_type": "execute_result"
    }
   ],
   "source": [
    "porciento = (unicos/cantidad_activos)*100\n",
    "porciento"
   ]
  },
  {
   "cell_type": "raw",
   "metadata": {},
   "source": [
    "fin"
   ]
  },
  {
   "cell_type": "markdown",
   "metadata": {},
   "source": [
    "### spark"
   ]
  },
  {
   "cell_type": "markdown",
   "metadata": {},
   "source": [
    "### 2) a)tiempo de juego total campeonato"
   ]
  },
  {
   "cell_type": "code",
   "execution_count": 2,
   "metadata": {},
   "outputs": [],
   "source": [
    "#from pyspark import SparkContext\n",
    "#sc = SparkContext(appName=\"EstimatePi\")"
   ]
  },
  {
   "cell_type": "code",
   "execution_count": 58,
   "metadata": {},
   "outputs": [],
   "source": [
    "jugadordd = [\n",
    "    (12,\"Mario Kart\", 15, \"argentina\"),\n",
    "    (22,\"Mario\", 4.1,\"argentina\"),\n",
    "    (32,\"gon\", 128, \"no\"),\n",
    "    (42,\"pan\", 43, \"argentina\"),\n",
    "    (52,\"win\", 32.5, \"argentina\"),\n",
    "    (62,\"nop\", 58, \"argentina\"),\n",
    "    (72,\"capaz\", 25, \"no\")\n",
    "]\n",
    "\n",
    "estadisticardd = [\n",
    "    (1,12, 15, 1,1),\n",
    "    (1,32, 15, 1,1),\n",
    "    (1,42, 15, 1,1),\n",
    "    (1,52, 15, 1,1),\n",
    "    (1,62, 15, 1,1),\n",
    "    (1,72, 15, 1,1),\n",
    "    (2,12, 4.1,1,1),\n",
    "    (2,22, 4.1,1,1),\n",
    "    (2,52, 4.1,1,1),\n",
    "    (3,12, 128, 1,1),\n",
    "    (4,12, 43, 1,1),\n",
    "    (5,22, 32.5, 1,1),\n",
    "    (6,32, 58, 1,1),\n",
    "    (6,42, 58, 1,1),\n",
    "    (6,62, 58, 1,1),\n",
    "    (6,52, 58, 1,1),\n",
    "    (7,42, 25, 1,1)\n",
    "]\n",
    "\n",
    "partidordd = [\n",
    "    (1,2019, 2, \"argentina\"),\n",
    "    (2,2018, 2,\"argentina\"),\n",
    "    (3,2019, 1, \"no\"),\n",
    "    (4,2019, 1, \"argentina\"),\n",
    "    (5,2018, 1, \"argentina\"),\n",
    "    (6,2018, 1, \"argentina\"),\n",
    "    (7,2019, 2, \"no\")\n",
    "]\n",
    "\n",
    "jugador = sc.parallelize(jugadordd)\n",
    "estadistica = sc.parallelize(estadisticardd)\n",
    "partido = sc.parallelize(partidordd)"
   ]
  },
  {
   "cell_type": "code",
   "execution_count": 59,
   "metadata": {},
   "outputs": [
    {
     "data": {
      "text/plain": [
       "[(12, 'Mario Kart'), (22, 'Mario'), (42, 'pan'), (52, 'win'), (62, 'nop')]"
      ]
     },
     "execution_count": 59,
     "metadata": {},
     "output_type": "execute_result"
    }
   ],
   "source": [
    "argentinos = jugador.filter(lambda x: x[3] == \"argentina\")\n",
    "argentinos = argentinos.map(lambda x: (x[0],x[1]))\n",
    "argentinos.collect()"
   ]
  },
  {
   "cell_type": "code",
   "execution_count": 66,
   "metadata": {},
   "outputs": [
    {
     "data": {
      "text/plain": [
       "[(1, '2019-2'),\n",
       " (2, '2018-2'),\n",
       " (3, '2019-1'),\n",
       " (4, '2019-1'),\n",
       " (5, '2018-1'),\n",
       " (6, '2018-1'),\n",
       " (7, '2019-2')]"
      ]
     },
     "execution_count": 66,
     "metadata": {},
     "output_type": "execute_result"
    }
   ],
   "source": [
    "#id_partido v: año, semestre\n",
    "partidos = partido.map(lambda x: (x[0],(str(x[1])+\"-\"+str(x[2]))))\n",
    "partidos.collect()\n"
   ]
  },
  {
   "cell_type": "code",
   "execution_count": 67,
   "metadata": {},
   "outputs": [
    {
     "data": {
      "text/plain": [
       "[(42, ((1, 15), 'pan')),\n",
       " (42, ((6, 58), 'pan')),\n",
       " (42, ((7, 25), 'pan')),\n",
       " (12, ((1, 15), 'Mario Kart')),\n",
       " (12, ((2, 4.1), 'Mario Kart')),\n",
       " (12, ((3, 128), 'Mario Kart')),\n",
       " (12, ((4, 43), 'Mario Kart')),\n",
       " (52, ((1, 15), 'win')),\n",
       " (52, ((2, 4.1), 'win')),\n",
       " (52, ((6, 58), 'win')),\n",
       " (62, ((1, 15), 'nop')),\n",
       " (62, ((6, 58), 'nop')),\n",
       " (22, ((2, 4.1), 'Mario')),\n",
       " (22, ((5, 32.5), 'Mario'))]"
      ]
     },
     "execution_count": 67,
     "metadata": {},
     "output_type": "execute_result"
    }
   ],
   "source": [
    "#id_partidZo v: id_jugador, tiempo_jugado\n",
    "estadisticas = estadistica.map(lambda x: (x[1],(x[0],x[2])))\n",
    "union = estadisticas.join(argentinos)\n",
    "union.collect()"
   ]
  },
  {
   "cell_type": "code",
   "execution_count": 68,
   "metadata": {},
   "outputs": [
    {
     "data": {
      "text/plain": [
       "[(1, ((42, 'pan', 15), '2019-2')),\n",
       " (1, ((12, 'Mario Kart', 15), '2019-2')),\n",
       " (1, ((52, 'win', 15), '2019-2')),\n",
       " (1, ((62, 'nop', 15), '2019-2')),\n",
       " (2, ((12, 'Mario Kart', 4.1), '2018-2')),\n",
       " (2, ((52, 'win', 4.1), '2018-2')),\n",
       " (2, ((22, 'Mario', 4.1), '2018-2')),\n",
       " (3, ((12, 'Mario Kart', 128), '2019-1')),\n",
       " (4, ((12, 'Mario Kart', 43), '2019-1')),\n",
       " (5, ((22, 'Mario', 32.5), '2018-1')),\n",
       " (6, ((42, 'pan', 58), '2018-1')),\n",
       " (6, ((52, 'win', 58), '2018-1')),\n",
       " (6, ((62, 'nop', 58), '2018-1')),\n",
       " (7, ((42, 'pan', 25), '2019-2'))]"
      ]
     },
     "execution_count": 68,
     "metadata": {},
     "output_type": "execute_result"
    }
   ],
   "source": [
    "union = union.map(lambda x: (x[1][0][0],(x[0],x[1][1],x[1][0][1])))\n",
    "union = union.join(partidos)\n",
    "union.collect() \n",
    "#id_p #id_j #nombre # tiempo #año #semestre"
   ]
  },
  {
   "cell_type": "code",
   "execution_count": 168,
   "metadata": {},
   "outputs": [],
   "source": [
    "def ant(x):\n",
    "    anio,semestre=x.split(\"-\")\n",
    "    anio = int(anio)\n",
    "    semestre = int(semestre)\n",
    "    semestre = semestre +1\n",
    "    if(semestre == 3):\n",
    "        anio = anio+1\n",
    "        semestre =  1\n",
    "    resultado = str(anio)+\"-\"+str(semestre)\n",
    "    return resultado"
   ]
  },
  {
   "cell_type": "code",
   "execution_count": 169,
   "metadata": {},
   "outputs": [
    {
     "data": {
      "text/plain": [
       "[(('2019-2', 52), ('win', 15)),\n",
       " (('2018-1', 22), ('Mario', 32.5)),\n",
       " (('2019-2', 42), ('pan', 40)),\n",
       " (('2018-1', 52), ('win', 58)),\n",
       " (('2019-2', 12), ('Mario Kart', 15)),\n",
       " (('2018-2', 52), ('win', 4.1)),\n",
       " (('2018-1', 62), ('nop', 58)),\n",
       " (('2019-2', 62), ('nop', 15)),\n",
       " (('2018-2', 22), ('Mario', 4.1)),\n",
       " (('2018-2', 12), ('Mario Kart', 4.1)),\n",
       " (('2019-1', 12), ('Mario Kart', 171)),\n",
       " (('2018-1', 42), ('pan', 58))]"
      ]
     },
     "execution_count": 169,
     "metadata": {},
     "output_type": "execute_result"
    }
   ],
   "source": [
    "res = union.map(lambda x: ((x[1][1],x[1][0][0]),(x[1][0][1],x[1][0][2]))).reduceByKey(lambda x,y: (x[0],x[1]+y[1]))\n",
    "\n",
    "res.collect()"
   ]
  },
  {
   "cell_type": "code",
   "execution_count": 183,
   "metadata": {},
   "outputs": [],
   "source": [
    "def ordenar(x):\n",
    "    anio,mes = x.split('-')\n",
    "    return anio\n",
    "def ordenar2(x):\n",
    "    anio,mes = x.split('-')\n",
    "    return mes"
   ]
  },
  {
   "cell_type": "code",
   "execution_count": 199,
   "metadata": {},
   "outputs": [
    {
     "data": {
      "text/plain": [
       "[(('2018-1', 22, 'Mario'), 32.5),\n",
       " (('2018-2', 22, 'Mario'), 32.5),\n",
       " (('2018-1', 52, 'win'), 58),\n",
       " (('2018-2', 52, 'win'), 58),\n",
       " (('2018-1', 62, 'nop'), 58),\n",
       " (('2018-2', 62, 'nop'), 58),\n",
       " (('2018-1', 42, 'pan'), 58),\n",
       " (('2018-2', 42, 'pan'), 58),\n",
       " (('2018-2', 52, 'win'), 4.1),\n",
       " (('2019-1', 52, 'win'), 4.1),\n",
       " (('2018-2', 22, 'Mario'), 4.1),\n",
       " (('2019-1', 22, 'Mario'), 4.1),\n",
       " (('2018-2', 12, 'Mario Kart'), 4.1),\n",
       " (('2019-1', 12, 'Mario Kart'), 4.1),\n",
       " (('2019-1', 12, 'Mario Kart'), 171),\n",
       " (('2019-2', 12, 'Mario Kart'), 171),\n",
       " (('2019-2', 52, 'win'), 15),\n",
       " (('2020-1', 52, 'win'), 15),\n",
       " (('2019-2', 42, 'pan'), 40),\n",
       " (('2020-1', 42, 'pan'), 40),\n",
       " (('2019-2', 12, 'Mario Kart'), 15),\n",
       " (('2020-1', 12, 'Mario Kart'), 15),\n",
       " (('2019-2', 62, 'nop'), 15),\n",
       " (('2020-1', 62, 'nop'), 15)]"
      ]
     },
     "execution_count": 199,
     "metadata": {},
     "output_type": "execute_result"
    }
   ],
   "source": [
    "res2= res.sortBy(lambda x: (ordenar(x[0][0]),ordenar2(x[0][0])))\n",
    "res2 = res2.flatMap(lambda x: [((x[0][0],x[0][1],x[1][0]),(x[1][1])),((ant(x[0][0]),x[0][1],x[1][0]),(x[1][1]))])\n",
    "\n",
    "res2.collect()"
   ]
  },
  {
   "cell_type": "code",
   "execution_count": 196,
   "metadata": {},
   "outputs": [
    {
     "data": {
      "text/plain": [
       "[('Mario Kart', [4.1, 171]),\n",
       " ('Mario Kart', [171, 15]),\n",
       " ('win', [58, 4.1]),\n",
       " ('Mario', [32.5, 4.1])]"
      ]
     },
     "execution_count": 196,
     "metadata": {},
     "output_type": "execute_result"
    }
   ],
   "source": [
    "re3 = res2.groupByKey().map(lambda x: (x[0][2],list(x[1])))\n",
    "re3=re3.filter(lambda x:  (len(x[1])==2))\n",
    "re3.collect()"
   ]
  },
  {
   "cell_type": "code",
   "execution_count": 197,
   "metadata": {},
   "outputs": [
    {
     "data": {
      "text/plain": [
       "['Mario Kart']"
      ]
     },
     "execution_count": 197,
     "metadata": {},
     "output_type": "execute_result"
    }
   ],
   "source": [
    "re4 =  re3.filter(lambda x: ((((x[1][1]-x[1][0])/x[1][0])>0.5)))\n",
    "re4=re4.map(lambda x: x[0])\n",
    "re4.collect()"
   ]
  },
  {
   "cell_type": "code",
   "execution_count": null,
   "metadata": {},
   "outputs": [],
   "source": []
  }
 ],
 "metadata": {
  "kernelspec": {
   "display_name": "Python 3",
   "language": "python",
   "name": "python3"
  },
  "language_info": {
   "codemirror_mode": {
    "name": "ipython",
    "version": 3
   },
   "file_extension": ".py",
   "mimetype": "text/x-python",
   "name": "python",
   "nbconvert_exporter": "python",
   "pygments_lexer": "ipython3",
   "version": "3.7.3"
  }
 },
 "nbformat": 4,
 "nbformat_minor": 2
}
